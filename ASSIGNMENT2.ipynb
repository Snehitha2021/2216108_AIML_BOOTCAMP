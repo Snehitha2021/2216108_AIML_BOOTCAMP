{
  "nbformat": 4,
  "nbformat_minor": 0,
  "metadata": {
    "colab": {
      "name": "ASSIGNMENT2.ipynb",
      "provenance": [],
      "authorship_tag": "ABX9TyNy4b4nOOSDzFr4JQPssC+Z",
      "include_colab_link": true
    },
    "kernelspec": {
      "name": "python3",
      "display_name": "Python 3"
    },
    "language_info": {
      "name": "python"
    }
  },
  "cells": [
    {
      "cell_type": "markdown",
      "metadata": {
        "id": "view-in-github",
        "colab_type": "text"
      },
      "source": [
        "<a href=\"https://colab.research.google.com/github/Snehitha2021/2216108_AIML_BOOTCAMP/blob/main/ASSIGNMENT2.ipynb\" target=\"_parent\"><img src=\"https://colab.research.google.com/assets/colab-badge.svg\" alt=\"Open In Colab\"/></a>"
      ]
    },
    {
      "cell_type": "code",
      "execution_count": null,
      "metadata": {
        "colab": {
          "base_uri": "https://localhost:8080/"
        },
        "id": "0shRRfw5gY4q",
        "outputId": "89669a80-cf47-4eb3-aaa1-eee960efe91e"
      },
      "outputs": [
        {
          "output_type": "stream",
          "name": "stdout",
          "text": [
            "IF STATEMENT\n",
            "true\n",
            "120\n",
            "true\n",
            "120\n"
          ]
        }
      ],
      "source": [
        "#IF STATEMENT\n",
        "print(\"IF STATEMENT\")\n",
        "var=120\n",
        "if var>0:\n",
        "  print(\"true\")\n",
        "  print(var)\n",
        "\n",
        "print(\"\\n\")\n",
        "  var1=0\n",
        "if var1>0:\n",
        "  print(\"true\")\n",
        "  print(var)\n",
        "\n"
      ]
    },
    {
      "cell_type": "code",
      "source": [
        " #IF.....ELSE\n",
        "print(\"IF....ELSE\")\n",
        "var2=-1\n",
        "if var2>0: \n",
        "  print(\"true\")\n",
        "  print(var)\n",
        "else:\n",
        "  print(\"false\")\n"
      ],
      "metadata": {
        "colab": {
          "base_uri": "https://localhost:8080/"
        },
        "id": "1TPiBrOmh-PF",
        "outputId": "d3b90e81-d02c-4239-ad30-734f4054bec0"
      },
      "execution_count": null,
      "outputs": [
        {
          "output_type": "stream",
          "name": "stdout",
          "text": [
            "IF....ELSE\n",
            "false\n"
          ]
        }
      ]
    },
    {
      "cell_type": "code",
      "source": [
        "#NESTED IF\n",
        "print(\"NESTED IF\")\n",
        "print(\"BUS TICKET\")\n",
        "age=int(input(\"enter age: \"))\n",
        "if age>12 and age<=18:\n",
        "  if age<15:\n",
        "    print(\"Quarter ticket\")\n",
        "  elif age==15:\n",
        "    print(\"Quarter ticket+discount\")\n",
        "  else:\n",
        "    print(\"Half ticket\")\n",
        "elif age>=19 and age<=60:\n",
        "  print(\"Full Ticket\")\n",
        "elif age>60:\n",
        "  print(\"Full Ticket + discount\")\n",
        "else:\n",
        "  print(\"no ticket\")"
      ],
      "metadata": {
        "colab": {
          "base_uri": "https://localhost:8080/"
        },
        "id": "tMlZQwK4isdj",
        "outputId": "ab0f4282-802e-42fd-ed26-24b6386cff34"
      },
      "execution_count": null,
      "outputs": [
        {
          "output_type": "stream",
          "name": "stdout",
          "text": [
            "NESTED IF\n",
            "BUS TICKET\n",
            "enter age: 99\n",
            "Full Ticket + discount\n"
          ]
        }
      ]
    },
    {
      "cell_type": "code",
      "source": [
        "#LOOPS\n",
        "print(\"LOOPS\")\n",
        "print(\"FOR LOOP\")\n",
        "n=[6,5,9,21,29,34,25,32]\n",
        "sum=0\n",
        "for val in n:\n",
        "  sum=sum+val\n",
        "print(\"the sun is:\",sum)\n",
        "\n",
        "print(\"\\n\")\n",
        "for i in range(1,11):\n",
        "  print(i)\n",
        "\n",
        "print(\"\\n\")\n",
        "for i in range(1,11,2):\n",
        "  print(i)\n",
        "\n",
        "print(\"\\n\")\n",
        "x=[2,3,4,5,6,7,8,9]\n",
        "y=[]\n",
        "for a in x:\n",
        "  if a%2==0:\n",
        "    y.append(a)\n",
        "print(y)\n",
        "\n",
        "print(\"\\n\")\n",
        "#USING IF STATEMENTS\n",
        "print(\"USING IF STATEMENTS\")\n",
        "d=[0,1,5,7]\n",
        "for i in d:\n",
        "  print(i)\n",
        "else:\n",
        "  print(\"no items\")\n",
        "print(\"\\n\")\n",
        "\n",
        "for l in \"python\":\n",
        "  print(\"current letter is: \",l)\n",
        "\n",
        "print(\"\\n\")\n",
        "#ITERATION BY SEQ INDEXING\n",
        "print(\"ITERATION BY SEQ INDEXING\")\n",
        "fruit=['apple','banana','orange']\n",
        "for index in range(len(fruit)):\n",
        "  print('current fruit is: ',fruit[index])\n"
      ],
      "metadata": {
        "colab": {
          "base_uri": "https://localhost:8080/"
        },
        "id": "rHE2OpTTkP-0",
        "outputId": "93a11d50-c9f2-40da-db63-63d13af7063f"
      },
      "execution_count": null,
      "outputs": [
        {
          "output_type": "stream",
          "name": "stdout",
          "text": [
            "LOOPS\n",
            "FOR LOOP\n",
            "the sun is: 161\n",
            "\n",
            "\n",
            "1\n",
            "2\n",
            "3\n",
            "4\n",
            "5\n",
            "6\n",
            "7\n",
            "8\n",
            "9\n",
            "10\n",
            "\n",
            "\n",
            "1\n",
            "3\n",
            "5\n",
            "7\n",
            "9\n",
            "\n",
            "\n",
            "[2, 4, 6, 8]\n",
            "\n",
            "\n",
            "USING IF STATEMENTS\n",
            "0\n",
            "1\n",
            "5\n",
            "7\n",
            "no items\n",
            "\n",
            "\n",
            "current letter is:  p\n",
            "current letter is:  y\n",
            "current letter is:  t\n",
            "current letter is:  h\n",
            "current letter is:  o\n",
            "current letter is:  n\n",
            "\n",
            "\n",
            "ITERATION BY SEQ INDEXING\n",
            "current fruit is:  apple\n",
            "current fruit is:  banana\n",
            "current fruit is:  orange\n"
          ]
        }
      ]
    },
    {
      "cell_type": "code",
      "source": [
        "#WHILE LOOP\n",
        "print(\"WHILE LOOP\")\n",
        "count=0\n",
        "while (count<11):\n",
        "  print(count)\n",
        "  count=count+1\n",
        "\n",
        "count=0\n",
        "while (count<5):\n",
        "  print(count)\n",
        "  count=count+1\n",
        "else:\n",
        "  print(\"not less\")"
      ],
      "metadata": {
        "colab": {
          "base_uri": "https://localhost:8080/"
        },
        "id": "lDRNGVImmV6r",
        "outputId": "2e80329a-885c-4ed9-e655-b27f27ca5639"
      },
      "execution_count": null,
      "outputs": [
        {
          "output_type": "stream",
          "name": "stdout",
          "text": [
            "WHILE LOOP\n",
            "0\n",
            "1\n",
            "2\n",
            "3\n",
            "4\n",
            "5\n",
            "6\n",
            "7\n",
            "8\n",
            "9\n",
            "10\n",
            "0\n",
            "1\n",
            "2\n",
            "3\n",
            "4\n",
            "not less\n"
          ]
        }
      ]
    },
    {
      "cell_type": "code",
      "source": [
        "#NESTED LOOPS\n",
        "print(\"NESTED LOOPS\")\n",
        "print(\"MATRIX ADD\")\n",
        "x=[[1,2,3],\n",
        "   [4,5,6],\n",
        "   [7,8,9]]\n",
        "\n",
        "y=[[2,4,6],[2,5,8],[3,6,9]]\n",
        "\n",
        "res=[[0,0,0],[0,0,0],[0,0,0]]\n",
        "for i in range(len(x)):\n",
        "  for j in range(len(x[0])):\n",
        "    res[i][j]=x[i][j]+y[i][j]\n",
        "for r in res:\n",
        "    print(r)\n",
        "\n",
        "print(\"\\n\")\n",
        "print(\"MATRIX MUL\")\n",
        "x=[[1,2,3],\n",
        "   [4,5,6],\n",
        "   [7,8,9]]\n",
        "\n",
        "y=[[2,4,6],[2,5,8],[3,6,9]]\n",
        "\n",
        "res=[[0,0,0],[0,0,0],[0,0,0]]\n",
        "for i in range(len(x)):\n",
        "  for j in range(len(x[0])):\n",
        "    res[i][j]=x[i][j]*y[i][j]\n",
        "for r in res:\n",
        "    print(r)"
      ],
      "metadata": {
        "colab": {
          "base_uri": "https://localhost:8080/"
        },
        "id": "f6nqf6OxrRCv",
        "outputId": "cbb44135-9d0e-4e60-f8e6-0f354403c5f4"
      },
      "execution_count": null,
      "outputs": [
        {
          "output_type": "stream",
          "name": "stdout",
          "text": [
            "NESTED LOOPS\n",
            "MATRIX ADD\n",
            "[3, 6, 9]\n",
            "[6, 10, 14]\n",
            "[10, 14, 18]\n",
            "\n",
            "\n",
            "MATRIX MUL\n",
            "[2, 8, 18]\n",
            "[8, 25, 48]\n",
            "[21, 48, 81]\n"
          ]
        }
      ]
    },
    {
      "cell_type": "code",
      "source": [
        "#TABLESS\n",
        "num=int(input(\"ENTER LAST VALUE TO GET TABLESS: \"))\n",
        "i=1\n",
        "while(i<=num):\n",
        "  print(f\"Table {i}\")#rawstring\n",
        "  j=1\n",
        "  while(j<=10):\n",
        "    print(f\"{i}*{j}={i*j}\")\n",
        "    j=j+1\n",
        "  print(\"------------------------------------------------\")\n",
        "  i=i+1\n",
        "\n",
        "   "
      ],
      "metadata": {
        "colab": {
          "base_uri": "https://localhost:8080/"
        },
        "id": "WyXeTdXwtxz0",
        "outputId": "f8b60df0-c607-4150-d0d0-2f7a197f5422"
      },
      "execution_count": null,
      "outputs": [
        {
          "output_type": "stream",
          "name": "stdout",
          "text": [
            "ENTER LAST VALUE TO GET TABLESS: 2\n",
            "Table 1\n",
            "1*1=1\n",
            "1*2=2\n",
            "1*3=3\n",
            "1*4=4\n",
            "1*5=5\n",
            "1*6=6\n",
            "1*7=7\n",
            "1*8=8\n",
            "1*9=9\n",
            "1*10=10\n",
            "------------------------------------------------\n",
            "Table 2\n",
            "2*1=2\n",
            "2*2=4\n",
            "2*3=6\n",
            "2*4=8\n",
            "2*5=10\n",
            "2*6=12\n",
            "2*7=14\n",
            "2*8=16\n",
            "2*9=18\n",
            "2*10=20\n",
            "------------------------------------------------\n"
          ]
        }
      ]
    },
    {
      "cell_type": "code",
      "source": [
        "#LOOP CONTROL STATEMENTS\n",
        "print(\"LOOP CONTROL STATEMENTS\")\n",
        "print(\"BREAK\")\n",
        "for l in 'python':\n",
        "  if l =='h':\n",
        "    break\n",
        "  print(l)\n",
        "\n",
        "int1=10\n",
        "while(int1>0):\n",
        "  print(int1)\n",
        "  int1=int1-1\n",
        "  if int1==5:\n",
        "    break\n",
        "\n",
        "#continue\n",
        "print(\"\\n\")\n",
        "print(\"CONTINUE\") \n",
        "for l in 'python':\n",
        " if l =='h':\n",
        "   continue\n",
        " print(l)\n",
        "\n",
        "int1=10\n",
        "while(int1>0):\n",
        "  print(int1)\n",
        "  int1=int1-1\n",
        "  if int1==5:\n",
        "    continue\n",
        "\n",
        "#PASS\n",
        "print(\"\\n\")\n",
        "print(\"PASS\")\n",
        "for l in 'python':\n",
        " if l =='h':\n",
        "   pass\n",
        " print(l)\n",
        "\n",
        "int1=10\n",
        "while(int1>0):\n",
        "  print(int1)\n",
        "  int1=int1-1\n",
        "  if int1==5:\n",
        "    pass "
      ],
      "metadata": {
        "colab": {
          "base_uri": "https://localhost:8080/"
        },
        "id": "H-VbdVKKwdnT",
        "outputId": "2c5ca9fe-d924-4063-d736-b59fb8d2fe4e"
      },
      "execution_count": null,
      "outputs": [
        {
          "output_type": "stream",
          "name": "stdout",
          "text": [
            "LOOP CONTROL STATEMENTS\n",
            "BREAK\n",
            "p\n",
            "y\n",
            "t\n",
            "10\n",
            "9\n",
            "8\n",
            "7\n",
            "6\n",
            "\n",
            "\n",
            "CONTINUE\n",
            "p\n",
            "y\n",
            "t\n",
            "o\n",
            "n\n",
            "10\n",
            "9\n",
            "8\n",
            "7\n",
            "6\n",
            "5\n",
            "4\n",
            "3\n",
            "2\n",
            "1\n",
            "\n",
            "\n",
            "PASS\n",
            "p\n",
            "y\n",
            "t\n",
            "h\n",
            "o\n",
            "n\n",
            "10\n",
            "9\n",
            "8\n",
            "7\n",
            "6\n",
            "5\n",
            "4\n",
            "3\n",
            "2\n",
            "1\n"
          ]
        }
      ]
    },
    {
      "cell_type": "code",
      "source": [
        "str1=input(\"enter a string: \")\n",
        "str2=str1[::-1]\n",
        "if(str1==str2):\n",
        "  print(\"Palindrome\")\n",
        "else:\n",
        "  print(\"not\")"
      ],
      "metadata": {
        "colab": {
          "base_uri": "https://localhost:8080/"
        },
        "id": "ed5cVbp43en2",
        "outputId": "43976ae6-74ef-42c0-c99e-5f5036984aaa"
      },
      "execution_count": null,
      "outputs": [
        {
          "output_type": "stream",
          "name": "stdout",
          "text": [
            "enter a string: hiih\n",
            "Palindrome\n"
          ]
        }
      ]
    },
    {
      "cell_type": "code",
      "source": [
        "for i in range(1,101):\n",
        "  str2=str(i)\n",
        "  if (str2==str2[::-1]):\n",
        "    print(\"yes the palindrome number is: \",i)\n",
        "  "
      ],
      "metadata": {
        "colab": {
          "base_uri": "https://localhost:8080/"
        },
        "id": "j4p8Z1d87Hcx",
        "outputId": "c3ac6ed0-8ae3-442b-8711-298e965a7a9f"
      },
      "execution_count": null,
      "outputs": [
        {
          "output_type": "stream",
          "name": "stdout",
          "text": [
            "yes the palindrome number is:  1\n",
            "yes the palindrome number is:  2\n",
            "yes the palindrome number is:  3\n",
            "yes the palindrome number is:  4\n",
            "yes the palindrome number is:  5\n",
            "yes the palindrome number is:  6\n",
            "yes the palindrome number is:  7\n",
            "yes the palindrome number is:  8\n",
            "yes the palindrome number is:  9\n",
            "yes the palindrome number is:  11\n",
            "yes the palindrome number is:  22\n",
            "yes the palindrome number is:  33\n",
            "yes the palindrome number is:  44\n",
            "yes the palindrome number is:  55\n",
            "yes the palindrome number is:  66\n",
            "yes the palindrome number is:  77\n",
            "yes the palindrome number is:  88\n",
            "yes the palindrome number is:  99\n"
          ]
        }
      ]
    },
    {
      "cell_type": "code",
      "source": [
        "#EVEN ODD LISTS\n",
        "a=[1,2,3,4,5,6,7,8,9]\n",
        "b=[]\n",
        "c=[]\n",
        "for i in a:\n",
        "  if(i%2==0):\n",
        "    b.append(i) \n",
        "  else:\n",
        "    c.append(i)\n",
        "print(c)\n",
        "print(b)"
      ],
      "metadata": {
        "colab": {
          "base_uri": "https://localhost:8080/"
        },
        "id": "r5dGf0KJ-gPg",
        "outputId": "10cf8d50-ec6f-4dbf-f125-c134b2703209"
      },
      "execution_count": null,
      "outputs": [
        {
          "output_type": "stream",
          "name": "stdout",
          "text": [
            "[1, 3, 5, 7, 9]\n",
            "[2, 4, 6, 8]\n"
          ]
        }
      ]
    },
    {
      "cell_type": "markdown",
      "source": [
        "#Write a python program that generates desired output i.e, from countries list select out the country names that contain string “and”\n",
        "\n",
        "\n",
        "#Output: [“Finland”,”Ireland”]"
      ],
      "metadata": {
        "id": "wqsju8LbIcOs"
      }
    },
    {
      "cell_type": "code",
      "source": [
        "\n",
        "Countries_list=['Finland','Germany','Sweden','Ireland','Turkey']\n",
        "l=[]\n",
        "for i in Countries_list:\n",
        "  if(\"and\" in i):\n",
        "    l.append(i)\n",
        "print(l)"
      ],
      "metadata": {
        "colab": {
          "base_uri": "https://localhost:8080/"
        },
        "id": "rWScu3XwAFCs",
        "outputId": "ad76b8af-7ce5-4c65-9df3-d22741a90497"
      },
      "execution_count": null,
      "outputs": [
        {
          "output_type": "stream",
          "name": "stdout",
          "text": [
            "['Finland', 'Ireland']\n"
          ]
        }
      ]
    },
    {
      "cell_type": "markdown",
      "source": [
        "Write a python program that print respective grades of student:\n",
        "Grade – Outstanding  for marks>=90\n",
        "\n",
        "Grade A+ for marks >=80, <90\n",
        "\n",
        "Grade A for marks >=70, <80\n",
        "\n",
        "Grade B for marks >=60 and <70\n",
        "\n",
        "<60 Grade C"
      ],
      "metadata": {
        "id": "GPOTZqJXIZgQ"
      }
    },
    {
      "cell_type": "code",
      "source": [
        "\n",
        "m=int(input(\"enter marks: \"))\n",
        "if m>=90:\n",
        "  print(\"OUTSTANDING\")\n",
        "elif m>=80 and m<90:\n",
        "  print(\"A+\")\n",
        "elif m>=70 and m<80:\n",
        "  print(\"A\")\n",
        "elif m>=60 and m<70:\n",
        "  print(\"B\")\n",
        "else:\n",
        "  print(\"C\")\n"
      ],
      "metadata": {
        "colab": {
          "base_uri": "https://localhost:8080/"
        },
        "id": "F2nFGRoBBfVY",
        "outputId": "925375a8-2139-45d9-ac35-3c25d5e75376"
      },
      "execution_count": null,
      "outputs": [
        {
          "output_type": "stream",
          "name": "stdout",
          "text": [
            "enter marks: 52\n",
            "C\n"
          ]
        }
      ]
    },
    {
      "cell_type": "code",
      "source": [
        ""
      ],
      "metadata": {
        "id": "W7dIKVdWBysx"
      },
      "execution_count": null,
      "outputs": []
    },
    {
      "cell_type": "markdown",
      "source": [
        "Create a list with name state list with 5 elements\n",
        "State_list = [“Delhi”,”Telangana”,”Goa”,”AP”,”Kerala”]\n",
        "\n",
        "Write a python program that extract first and last characters of each item and print in desired format.\n",
        "\n",
        "Input: [“Delhi”,”Telangana”,”Goa”,”AP”,”Kerala”]\n",
        "\n",
        "Output: dItAgAaOkA"
      ],
      "metadata": {
        "id": "m2Az7smzFChu"
      }
    },
    {
      "cell_type": "code",
      "source": [
        "s=[\"Delhi\",\"Telangana\",\"Goa\",\"AP\",\"Kerala\"]\n",
        "l=[]\n",
        "for i in s:\n",
        "  l.append(i[0])\n",
        "  l.append(i[len(i)-1])\n",
        "print(l)\n",
        "dtr=\"\".join(l)\n",
        "#print(dtr)\n",
        "str1=dtr.swapcase()\n",
        "print(str1)"
      ],
      "metadata": {
        "colab": {
          "base_uri": "https://localhost:8080/"
        },
        "id": "F3n_t_y6FDdM",
        "outputId": "2f90c123-4525-4738-bdb2-3aa1c9fc12da"
      },
      "execution_count": null,
      "outputs": [
        {
          "output_type": "stream",
          "name": "stdout",
          "text": [
            "['D', 'i', 'T', 'a', 'G', 'a', 'A', 'P', 'K', 'a']\n",
            "DiTaGaAPKa\n",
            "dItAgAapkA\n"
          ]
        }
      ]
    },
    {
      "cell_type": "code",
      "source": [
        "s=[\"Delhi\",\"Telangana\",\"Goa\",\"AP\",\"Kerala\"]\n",
        "str=\"\"\n",
        "for i in s:\n",
        "  str+=i[0].lower()+i[-1].upper()\n",
        "print(str)"
      ],
      "metadata": {
        "colab": {
          "base_uri": "https://localhost:8080/"
        },
        "id": "qIM3KuOxHj13",
        "outputId": "b4d5e777-fac5-4bea-9751-48752dc8d59d"
      },
      "execution_count": null,
      "outputs": [
        {
          "output_type": "stream",
          "name": "stdout",
          "text": [
            "dItAgAaPkA\n"
          ]
        }
      ]
    },
    {
      "cell_type": "code",
      "source": [
        "#USER DEFINED FUTN\n",
        "print(\"USER DEFINED FUTN\")\n",
        "def greet(name):\n",
        "  '''this futn greets a person'''\n",
        "  print(\"Hello,\"+name+\"Good morning\")\n",
        "greet(\"Chinnu\")"
      ],
      "metadata": {
        "colab": {
          "base_uri": "https://localhost:8080/"
        },
        "id": "5MAH-oYQbAu3",
        "outputId": "7a093729-3009-4626-db5f-79795454209b"
      },
      "execution_count": null,
      "outputs": [
        {
          "output_type": "stream",
          "name": "stdout",
          "text": [
            "USER DEFINED FUTN\n",
            "Hello,ChinnuGood morning\n"
          ]
        }
      ]
    },
    {
      "cell_type": "code",
      "source": [
        "#default\n",
        "def A(a,b=1,c=2):\n",
        "  return a+b+c\n",
        "print(A(0))\n",
        "print(A(3))\n",
        "print(A(4,4,4))"
      ],
      "metadata": {
        "colab": {
          "base_uri": "https://localhost:8080/"
        },
        "id": "e-k5a1O2blsx",
        "outputId": "31e3d514-ffda-4686-96de-118851e577b7"
      },
      "execution_count": null,
      "outputs": [
        {
          "output_type": "stream",
          "name": "stdout",
          "text": [
            "3\n",
            "6\n",
            "12\n"
          ]
        }
      ]
    },
    {
      "cell_type": "code",
      "source": [
        "#KEYWORDS\n",
        "print(\"KEYWORDS\")\n",
        "def A(a,b=1,c=2):\n",
        "  return a+b+c\n",
        "print(A(a=2,b=3))\n",
        "print(A(c=3,a=1))"
      ],
      "metadata": {
        "colab": {
          "base_uri": "https://localhost:8080/"
        },
        "id": "J1XOGeyccBLh",
        "outputId": "e32a3625-9396-4d46-89b8-8b8b953020a5"
      },
      "execution_count": null,
      "outputs": [
        {
          "output_type": "stream",
          "name": "stdout",
          "text": [
            "KEYWORDS\n",
            "7\n",
            "5\n"
          ]
        }
      ]
    },
    {
      "cell_type": "code",
      "source": [
        "#POSITIONAL\n",
        "def add(a,b,c):\n",
        "  return a+b+c\n",
        "print(add(10,20,30))\n",
        "print(add(10,b=20,c=30))"
      ],
      "metadata": {
        "colab": {
          "base_uri": "https://localhost:8080/"
        },
        "id": "_0wN4XUqcZY6",
        "outputId": "79c681f4-8d3b-4e3e-f91e-a6810e107f76"
      },
      "execution_count": null,
      "outputs": [
        {
          "output_type": "stream",
          "name": "stdout",
          "text": [
            "60\n",
            "60\n"
          ]
        }
      ]
    },
    {
      "cell_type": "code",
      "source": [
        "#ARBITARY KEYWORD\n",
        "def key_arg(**kwargs):\n",
        "  return kwargs\n",
        "my_dict=key_arg(Apples=10,Oranges=20,Banana=30)\n",
        "print(my_dict)\n",
        "print(my_dict['Banana'])"
      ],
      "metadata": {
        "colab": {
          "base_uri": "https://localhost:8080/"
        },
        "id": "0rhfT6QdcsQ_",
        "outputId": "c0c5a23b-2a65-47e8-ba1b-93b51da5aee4"
      },
      "execution_count": null,
      "outputs": [
        {
          "output_type": "stream",
          "name": "stdout",
          "text": [
            "{'Apples': 10, 'Oranges': 20, 'Banana': 30}\n",
            "30\n"
          ]
        }
      ]
    },
    {
      "cell_type": "code",
      "source": [
        "#ARBITARY POSITIONAL\n",
        "def add_num(*n):\n",
        "  print(n)\n",
        "  print(sum(n))\n",
        "add_num(5,11,29)"
      ],
      "metadata": {
        "colab": {
          "base_uri": "https://localhost:8080/",
          "height": 321
        },
        "id": "_ij0fK-idYi7",
        "outputId": "e9aad107-2787-44a8-90e6-9913346d64a5"
      },
      "execution_count": null,
      "outputs": [
        {
          "output_type": "stream",
          "name": "stdout",
          "text": [
            "(5, 11, 29)\n"
          ]
        },
        {
          "output_type": "error",
          "ename": "TypeError",
          "evalue": "ignored",
          "traceback": [
            "\u001b[0;31m---------------------------------------------------------------------------\u001b[0m",
            "\u001b[0;31mTypeError\u001b[0m                                 Traceback (most recent call last)",
            "\u001b[0;32m<ipython-input-98-99f68d09d01e>\u001b[0m in \u001b[0;36m<module>\u001b[0;34m()\u001b[0m\n\u001b[1;32m      3\u001b[0m   \u001b[0mprint\u001b[0m\u001b[0;34m(\u001b[0m\u001b[0mn\u001b[0m\u001b[0;34m)\u001b[0m\u001b[0;34m\u001b[0m\u001b[0;34m\u001b[0m\u001b[0m\n\u001b[1;32m      4\u001b[0m   \u001b[0mprint\u001b[0m\u001b[0;34m(\u001b[0m\u001b[0msum\u001b[0m\u001b[0;34m(\u001b[0m\u001b[0mn\u001b[0m\u001b[0;34m)\u001b[0m\u001b[0;34m)\u001b[0m\u001b[0;34m\u001b[0m\u001b[0;34m\u001b[0m\u001b[0m\n\u001b[0;32m----> 5\u001b[0;31m \u001b[0madd_num\u001b[0m\u001b[0;34m(\u001b[0m\u001b[0;36m5\u001b[0m\u001b[0;34m,\u001b[0m\u001b[0;36m11\u001b[0m\u001b[0;34m,\u001b[0m\u001b[0;36m29\u001b[0m\u001b[0;34m)\u001b[0m\u001b[0;34m\u001b[0m\u001b[0;34m\u001b[0m\u001b[0m\n\u001b[0m",
            "\u001b[0;32m<ipython-input-98-99f68d09d01e>\u001b[0m in \u001b[0;36madd_num\u001b[0;34m(*n)\u001b[0m\n\u001b[1;32m      2\u001b[0m \u001b[0;32mdef\u001b[0m \u001b[0madd_num\u001b[0m\u001b[0;34m(\u001b[0m\u001b[0;34m*\u001b[0m\u001b[0mn\u001b[0m\u001b[0;34m)\u001b[0m\u001b[0;34m:\u001b[0m\u001b[0;34m\u001b[0m\u001b[0;34m\u001b[0m\u001b[0m\n\u001b[1;32m      3\u001b[0m   \u001b[0mprint\u001b[0m\u001b[0;34m(\u001b[0m\u001b[0mn\u001b[0m\u001b[0;34m)\u001b[0m\u001b[0;34m\u001b[0m\u001b[0;34m\u001b[0m\u001b[0m\n\u001b[0;32m----> 4\u001b[0;31m   \u001b[0mprint\u001b[0m\u001b[0;34m(\u001b[0m\u001b[0msum\u001b[0m\u001b[0;34m(\u001b[0m\u001b[0mn\u001b[0m\u001b[0;34m)\u001b[0m\u001b[0;34m)\u001b[0m\u001b[0;34m\u001b[0m\u001b[0;34m\u001b[0m\u001b[0m\n\u001b[0m\u001b[1;32m      5\u001b[0m \u001b[0madd_num\u001b[0m\u001b[0;34m(\u001b[0m\u001b[0;36m5\u001b[0m\u001b[0;34m,\u001b[0m\u001b[0;36m11\u001b[0m\u001b[0;34m,\u001b[0m\u001b[0;36m29\u001b[0m\u001b[0;34m)\u001b[0m\u001b[0;34m\u001b[0m\u001b[0;34m\u001b[0m\u001b[0m\n",
            "\u001b[0;31mTypeError\u001b[0m: 'int' object is not callable"
          ]
        }
      ]
    },
    {
      "cell_type": "code",
      "source": [
        "#HIGHER ORDER FUTNS\n",
        "def shout(text):\n",
        "  return text.upper()\n",
        "\n",
        "def whisper(text):\n",
        "  return text.lower()\n",
        "\n",
        "def explain(func):\n",
        "  greet=func(\"Hii,i am higher order func\")\n",
        "  print(greet)\n",
        "explain(shout)\n",
        "explain(whisper)"
      ],
      "metadata": {
        "colab": {
          "base_uri": "https://localhost:8080/"
        },
        "id": "Om31dNtueX9o",
        "outputId": "090ac6f6-b18e-4ca4-fccc-367172076c3d"
      },
      "execution_count": null,
      "outputs": [
        {
          "output_type": "stream",
          "name": "stdout",
          "text": [
            "HII,I AM HIGHER ORDER FUNC\n",
            "hii,i am higher order func\n"
          ]
        }
      ]
    },
    {
      "cell_type": "code",
      "source": [
        "#LAMBDA \n",
        "def inc(x):\n",
        "  x=x+1\n",
        "  return x\n",
        "print(inc(8))\n",
        "\n",
        "print((lambda x:x+1)(8))\n",
        "\n",
        "res=lambda x:x+1\n",
        "print(res(8))"
      ],
      "metadata": {
        "colab": {
          "base_uri": "https://localhost:8080/"
        },
        "id": "JArzCsTrfkXE",
        "outputId": "8f41c8e7-99ce-43e3-b0e9-fc4756cc5bc6"
      },
      "execution_count": null,
      "outputs": [
        {
          "output_type": "stream",
          "name": "stdout",
          "text": [
            "9\n",
            "9\n",
            "9\n"
          ]
        }
      ]
    },
    {
      "cell_type": "code",
      "source": [
        "print((lambda x,y:x**y)(2,2))\n",
        "print((lambda x,y:x+y)(2,2))\n",
        "print((lambda x,y:x-y)(2,2))"
      ],
      "metadata": {
        "colab": {
          "base_uri": "https://localhost:8080/"
        },
        "id": "dHWRIwomgI67",
        "outputId": "74c46459-e4bc-4d10-875d-cd4a48921899"
      },
      "execution_count": null,
      "outputs": [
        {
          "output_type": "stream",
          "name": "stdout",
          "text": [
            "4\n",
            "4\n",
            "0\n"
          ]
        }
      ]
    },
    {
      "cell_type": "code",
      "source": [
        "#MAPPINGG\n",
        "l=[1,2,3,4,5]\n",
        "#res=lambda x:x+2\n",
        "#print(res(l))"
      ],
      "metadata": {
        "id": "MTZGQE1Zgt38"
      },
      "execution_count": null,
      "outputs": []
    },
    {
      "cell_type": "code",
      "source": [
        "l=[1,2,3,4,5]\n",
        "def inc(num):\n",
        "  return num+2\n",
        "res=list(map(inc,l))\n",
        "print(res)\n",
        "\n",
        "\n",
        "res=list(map(lambda x:x+2,l))\n",
        "print(res)\n"
      ],
      "metadata": {
        "colab": {
          "base_uri": "https://localhost:8080/"
        },
        "id": "JamKRIiSg_b0",
        "outputId": "6efa7b7a-880a-4244-d440-dd859e1bbd32"
      },
      "execution_count": null,
      "outputs": [
        {
          "output_type": "stream",
          "name": "stdout",
          "text": [
            "[3, 4, 5, 6, 7]\n",
            "[3, 4, 5, 6, 7]\n"
          ]
        }
      ]
    },
    {
      "cell_type": "code",
      "source": [
        "from typing_extensions import OrderedDict\n",
        "#EVEN OR ODD\n",
        "def eo(num):\n",
        "  if num%2==0:\n",
        "    return \"even\"\n",
        "  else:\n",
        "    return \"odd\"\n",
        "\n",
        "eo(2)\n",
        "\n",
        "\n",
        "l=[2,5,4,6,9,8,5,1]\n",
        "list(map(eo,l))"
      ],
      "metadata": {
        "colab": {
          "base_uri": "https://localhost:8080/"
        },
        "id": "PUDa8PBhh7Lk",
        "outputId": "623178dc-2664-42f4-e88b-27dc84132ccc"
      },
      "execution_count": null,
      "outputs": [
        {
          "output_type": "execute_result",
          "data": {
            "text/plain": [
              "['even', 'odd', 'even', 'even', 'odd', 'even', 'odd', 'odd']"
            ]
          },
          "metadata": {},
          "execution_count": 124
        }
      ]
    },
    {
      "cell_type": "code",
      "source": [
        "l=['apples','banana','grapes']\n",
        "r=list(map(lambda x:x.capitalize(),l))\n",
        "print(r)"
      ],
      "metadata": {
        "colab": {
          "base_uri": "https://localhost:8080/"
        },
        "id": "jiTxBhV5irht",
        "outputId": "c256bc2c-2aef-4e8a-b670-30cbdfbf6af4"
      },
      "execution_count": null,
      "outputs": [
        {
          "output_type": "stream",
          "name": "stdout",
          "text": [
            "['Apples', 'Banana', 'Grapes']\n"
          ]
        }
      ]
    },
    {
      "cell_type": "code",
      "source": [
        "#FILTER\n",
        "def odd(n):\n",
        "  if n%2!=0:\n",
        "    return n\n",
        "my_list=[2,5,9,6,4,7,3]\n",
        "print(list(filter(odd,my_list)))\n",
        "\n",
        "l=[15,25,6,3,96,4,8]\n",
        "temp=list(filter(lambda x:x%2==0,l))\n",
        "print(temp)"
      ],
      "metadata": {
        "colab": {
          "base_uri": "https://localhost:8080/"
        },
        "id": "WkQCQAsEjxuH",
        "outputId": "645c5c43-4adb-4e54-adf5-843ea37a4232"
      },
      "execution_count": null,
      "outputs": [
        {
          "output_type": "stream",
          "name": "stdout",
          "text": [
            "[5, 9, 7, 3]\n",
            "[6, 96, 4, 8]\n"
          ]
        }
      ]
    },
    {
      "cell_type": "code",
      "source": [
        "#MODULES\n",
        "import os \n",
        "os.mkdir(\"hi\")\n",
        "os.chdir(\"hi\")\n",
        "os.getcwd()\n",
        "os.listdir()\n",
        "os.rmdir(\"/content/hi\")"
      ],
      "metadata": {
        "id": "xme_GkcXqWkX"
      },
      "execution_count": null,
      "outputs": []
    },
    {
      "cell_type": "code",
      "source": [
        "#MATH MODULE\n",
        "import math as m\n",
        "print(m.pi)\n",
        "print(m.e)\n",
        "print(m.sqrt(4))\n",
        "print(m.pow(2,2))\n",
        "print(m.floor(1.4))\n",
        "print(m.tan(1))\n",
        "print(m.log(4))"
      ],
      "metadata": {
        "colab": {
          "base_uri": "https://localhost:8080/"
        },
        "id": "M-KBnzkvrEca",
        "outputId": "895e62dd-ea64-4c53-b970-a35df5ca8d6f"
      },
      "execution_count": null,
      "outputs": [
        {
          "output_type": "stream",
          "name": "stdout",
          "text": [
            "3.141592653589793\n",
            "2.718281828459045\n",
            "2.0\n",
            "4.0\n",
            "1\n",
            "1.5574077246549023\n",
            "1.3862943611198906\n"
          ]
        }
      ]
    },
    {
      "cell_type": "code",
      "source": [
        "#SYS MODULE\n",
        "import sys\n",
        "print(sys.path)\n",
        "print(sys.version)"
      ],
      "metadata": {
        "colab": {
          "base_uri": "https://localhost:8080/"
        },
        "id": "_AnSDsCdr2fm",
        "outputId": "21d84628-d57f-4741-a435-17e0dea59462"
      },
      "execution_count": null,
      "outputs": [
        {
          "output_type": "stream",
          "name": "stdout",
          "text": [
            "['', '/content', '/env/python', '/usr/lib/python37.zip', '/usr/lib/python3.7', '/usr/lib/python3.7/lib-dynload', '/usr/local/lib/python3.7/dist-packages', '/usr/lib/python3/dist-packages', '/usr/local/lib/python3.7/dist-packages/IPython/extensions', '/root/.ipython']\n",
            "3.7.13 (default, Apr 24 2022, 01:04:09) \n",
            "[GCC 7.5.0]\n"
          ]
        }
      ]
    },
    {
      "cell_type": "code",
      "source": [
        "#STATISTICS MODULE\n",
        "import statistics as st\n",
        "print(st.mean([21,29,34]))\n",
        "print(st.median([21,29,34]))"
      ],
      "metadata": {
        "colab": {
          "base_uri": "https://localhost:8080/"
        },
        "id": "m8fn4qjjsIkY",
        "outputId": "f8fba212-3dd7-4b74-9342-61d48cf3e6cf"
      },
      "execution_count": null,
      "outputs": [
        {
          "output_type": "stream",
          "name": "stdout",
          "text": [
            "28\n",
            "29\n"
          ]
        }
      ]
    },
    {
      "cell_type": "code",
      "source": [
        "#TIME MODULE\n",
        "import time\n",
        "print(time.time())\n",
        "print(time.localtime())"
      ],
      "metadata": {
        "colab": {
          "base_uri": "https://localhost:8080/"
        },
        "id": "CUkJSQgBs73F",
        "outputId": "f604252f-7edd-4ca4-dacf-f9eb104fd89c"
      },
      "execution_count": null,
      "outputs": [
        {
          "output_type": "stream",
          "name": "stdout",
          "text": [
            "1655201653.9770906\n",
            "time.struct_time(tm_year=2022, tm_mon=6, tm_mday=14, tm_hour=10, tm_min=14, tm_sec=13, tm_wday=1, tm_yday=165, tm_isdst=0)\n"
          ]
        }
      ]
    },
    {
      "cell_type": "code",
      "source": [
        "#RANDOM MODULE\n",
        "import random\n",
        "print(random.randrange(1,50))\n",
        "print(random.randint(1,100))\n",
        "print(random.random())"
      ],
      "metadata": {
        "colab": {
          "base_uri": "https://localhost:8080/"
        },
        "id": "6X4Xjd5ztawG",
        "outputId": "a255b4e2-5dd8-47b7-a14f-af61df3ee1c9"
      },
      "execution_count": null,
      "outputs": [
        {
          "output_type": "stream",
          "name": "stdout",
          "text": [
            "9\n",
            "66\n",
            "0.5185650686214628\n"
          ]
        }
      ]
    },
    {
      "cell_type": "code",
      "source": [
        "import random\n",
        "gn=random.randint(0,5)\n",
        "g1=int(input(\"enter\"))\n",
        "if g1==gn:\n",
        "  print(\"won\")\n",
        "else:\n",
        "    print(\"lost\")"
      ],
      "metadata": {
        "colab": {
          "base_uri": "https://localhost:8080/"
        },
        "id": "Wp6P-4DQt_lC",
        "outputId": "0e71eab0-8bf1-420a-8a6f-0564f39f54dc"
      },
      "execution_count": null,
      "outputs": [
        {
          "output_type": "stream",
          "name": "stdout",
          "text": [
            "enter3\n",
            "won\n"
          ]
        }
      ]
    },
    {
      "cell_type": "code",
      "source": [
        ""
      ],
      "metadata": {
        "id": "5K9CAs0I1P51"
      },
      "execution_count": null,
      "outputs": []
    },
    {
      "cell_type": "markdown",
      "source": [
        "Write a python program that remove items that are multiples of 5 from list:\n",
        "li=[1,2,5,6,7,10,15,25,65,78,90]\n",
        "\n",
        "o/p: [1,2,6,7,78]"
      ],
      "metadata": {
        "id": "k1CGkqY51gaR"
      }
    },
    {
      "cell_type": "code",
      "source": [
        " li=[1,2,5,6,7,10,15,25,65,78,90]\n",
        " l2=[]\n",
        " for i in li:\n",
        "   if i%5!=0:\n",
        "     l2.append(i)\n",
        "print(l2)\n"
      ],
      "metadata": {
        "colab": {
          "base_uri": "https://localhost:8080/"
        },
        "id": "nrNG0d_F1hdv",
        "outputId": "eb6596be-f8e9-47aa-b9c7-b5dd897b27d6"
      },
      "execution_count": null,
      "outputs": [
        {
          "output_type": "stream",
          "name": "stdout",
          "text": [
            "[1, 2, 6, 7, 78]\n"
          ]
        }
      ]
    },
    {
      "cell_type": "code",
      "source": [
        " li=[1,2,5,6,7,10,15,25,65,78,90]\n",
        " for i in li[:]:\n",
        "   if i%5==0:\n",
        "     li.remove(i)\n",
        "print(li)"
      ],
      "metadata": {
        "colab": {
          "base_uri": "https://localhost:8080/"
        },
        "id": "Suap7PYq2isx",
        "outputId": "c94e5048-07f5-4235-9b49-c5ea6ee99d15"
      },
      "execution_count": null,
      "outputs": [
        {
          "output_type": "stream",
          "name": "stdout",
          "text": [
            "[1, 2, 6, 7, 78]\n"
          ]
        }
      ]
    },
    {
      "cell_type": "markdown",
      "source": [
        "Write a python program that generates desired output from fruits list. Filter out the fruits names that don’t start with ‘A’\n",
        "\n",
        "\n",
        "Fruit=[“Apple”,”Banana”,”Pear”,”Avacado”,”Orange”,”Amla”]\n",
        "\n",
        "Output: [“Apple”,”Avacado”,”Amla”]"
      ],
      "metadata": {
        "id": "wlEjq6Hf5Qoq"
      }
    },
    {
      "cell_type": "code",
      "source": [
        "Fruit=[\"Apple\",\"Banana\",\"Pear\",\"Avacado\",\"Orange\",\"Amla\"]\n",
        "l=[]\n",
        "for i in Fruit:\n",
        "  if i.startswith('A'):\n",
        "    l.append(i)\n",
        "print(l)\n"
      ],
      "metadata": {
        "colab": {
          "base_uri": "https://localhost:8080/"
        },
        "id": "1qMuCmhM5RoL",
        "outputId": "8ecf90e4-974f-4430-b54b-3942614ad3d0"
      },
      "execution_count": null,
      "outputs": [
        {
          "output_type": "stream",
          "name": "stdout",
          "text": [
            "['Apple', 'Avacado', 'Amla']\n"
          ]
        }
      ]
    },
    {
      "cell_type": "code",
      "source": [
        "Fruit=[\"Apple\",\"Banana\",\"Pear\",\"Avacado\",\"Orange\",\"Amla\"]\n",
        "t=list(filter(lambda x:x[0]=='A',Fruit))\n",
        "print(t)"
      ],
      "metadata": {
        "colab": {
          "base_uri": "https://localhost:8080/"
        },
        "id": "zgiS8uMv3s-i",
        "outputId": "7440e435-6d3f-4015-9847-957a1fc6b275"
      },
      "execution_count": null,
      "outputs": [
        {
          "output_type": "stream",
          "name": "stdout",
          "text": [
            "['Apple', 'Avacado', 'Amla']\n"
          ]
        }
      ]
    },
    {
      "cell_type": "markdown",
      "source": [
        "Mssg=”Welcome to gradstellar bootcamp”\n",
        "X=”number of occurrences of ‘o’ in mssg”\n",
        "\n",
        "Y=”number of occurrences of ‘e’ in mssg”\n",
        "\n",
        "Compute (X+Y)2"
      ],
      "metadata": {
        "id": "7kXMjlDH7pKn"
      }
    },
    {
      "cell_type": "code",
      "source": [
        "Mssg=\"Welcome to gradstellar bootcamp\"\n",
        "x=Mssg.count('o')\n",
        "y=Mssg.count('e')\n",
        "print(x,y)\n",
        "print((x+y)**2)\n"
      ],
      "metadata": {
        "colab": {
          "base_uri": "https://localhost:8080/"
        },
        "id": "cSiPh7ss7yB8",
        "outputId": "5694595e-b2f2-4bb8-e64b-16bd0beb0ead"
      },
      "execution_count": null,
      "outputs": [
        {
          "output_type": "stream",
          "name": "stdout",
          "text": [
            "4 3\n",
            "49\n"
          ]
        }
      ]
    },
    {
      "cell_type": "markdown",
      "source": [
        "Write python program that filters a list by removing the elements that not start with vowel.\n",
        "I/P: [‘apple’,’orange’,’grapes’,’ball’,’bat’,’umbrella’]\n",
        "\n",
        "O/P: [‘apple’,’orange’,’umbrella’]"
      ],
      "metadata": {
        "id": "_xxwlJgS86b3"
      }
    },
    {
      "cell_type": "code",
      "source": [
        "li=[\"apple\",\"orange\",\"grapes\",\"ball\",\"bat\",\"umbrella\"]\n",
        "t=list(filter(lambda x:x[0] in 'AEIOUaeiou',li))\n",
        "print(t)"
      ],
      "metadata": {
        "colab": {
          "base_uri": "https://localhost:8080/"
        },
        "id": "31nk63XY868W",
        "outputId": "5e7b78f7-4830-447a-f509-a5b70c26bf10"
      },
      "execution_count": null,
      "outputs": [
        {
          "output_type": "stream",
          "name": "stdout",
          "text": [
            "['apple', 'orange', 'umbrella']\n"
          ]
        }
      ]
    },
    {
      "cell_type": "markdown",
      "source": [
        "Write a python program that displays unique element in a given list using function\n",
        "Li=[56,78,32,45,45,45,19,20]\n",
        "\n",
        "O/P: [56,78,32,45,19,20]"
      ],
      "metadata": {
        "id": "kLG-FXjy-Cz8"
      }
    },
    {
      "cell_type": "code",
      "source": [
        "Li=[56,78,32,45,45,45,19,20]\n",
        "print(set(Li))"
      ],
      "metadata": {
        "colab": {
          "base_uri": "https://localhost:8080/"
        },
        "id": "AkmQqFn5-DZV",
        "outputId": "8763bac3-a211-44ac-938d-ba9b36f192e0"
      },
      "execution_count": null,
      "outputs": [
        {
          "output_type": "stream",
          "name": "stdout",
          "text": [
            "{32, 45, 78, 19, 20, 56}\n"
          ]
        }
      ]
    }
  ]
}