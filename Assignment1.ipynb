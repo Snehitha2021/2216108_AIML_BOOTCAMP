{
  "nbformat": 4,
  "nbformat_minor": 0,
  "metadata": {
    "colab": {
      "name": "Assignment1.ipynb",
      "provenance": [],
      "collapsed_sections": [],
      "authorship_tag": "ABX9TyOThtnS0CedhOyYBiiWc7hq",
      "include_colab_link": true
    },
    "kernelspec": {
      "name": "python3",
      "display_name": "Python 3"
    },
    "language_info": {
      "name": "python"
    }
  },
  "cells": [
    {
      "cell_type": "markdown",
      "metadata": {
        "id": "view-in-github",
        "colab_type": "text"
      },
      "source": [
        "<a href=\"https://colab.research.google.com/github/Snehitha2021/2216108_AIML_BOOTCAMP/blob/main/Assignment1.ipynb\" target=\"_parent\"><img src=\"https://colab.research.google.com/assets/colab-badge.svg\" alt=\"Open In Colab\"/></a>"
      ]
    },
    {
      "cell_type": "markdown",
      "source": [
        "1. Implement the methods of String with examples"
      ],
      "metadata": {
        "id": "tLNkXUjcv7R3"
      }
    },
    {
      "cell_type": "code",
      "source": [
        "#STRINGS\n",
        "str=\"Snehitha\"\n",
        "\n",
        "#indexing\n",
        "print(\"\\\\INDEXING\")\n",
        "print(str[0])\n",
        "print(str[-1])\n",
        "print(\"\\n\")\n",
        "\n",
        "#slicing\n",
        "print(\"\\\\SLICING\")\n",
        "print(str[:])#total\n",
        "print(str[1:])\n",
        "print(str[:4])\n",
        "print(str[-5:-1])\n",
        "print(str[0:8:2])\n",
        "print(\"\\n\")\n",
        "\n",
        "#reverse string\n",
        "print(\"\\\\REV STRING\")\n",
        "print(str[::-1])\n",
        "print(\"\\n\")\n",
        "\n",
        "#string operations\n",
        "print(\"\\\\STRING OPERATIONS\")\n",
        "str1=\"hello\"\n",
        "str2=\"world\"\n",
        "str3=str1+str2\n",
        "print(str3)\n",
        "str4=str1*2\n",
        "print(str4)\n",
        "print(\"\\n\")\n",
        "\n",
        "#string methods\n",
        "print(\"\\\\STRING METHODS\")\n",
        "my_str=\"Snehitha reddy\"\n",
        "print(my_str.upper())\n",
        "print(my_str.lower())\n",
        "print(my_str.swapcase())\n",
        "print(my_str.upper())\n",
        "print(my_str.title())\n",
        "print(\"\\n\")\n",
        "\n",
        "print(  \"ORIGINAL\")\n",
        "str01=\"gradStellar is teaching python\"\n",
        "print(str01)\n",
        "print(\"---upper\")\n",
        "print(str01.upper())\n",
        "print(\"--lower\")\n",
        "print(str01.lower())\n",
        "print(\"--swapcase\")\n",
        "print(str01.swapcase())\n",
        "print(\"--title\")\n",
        "print(str01.title())\n",
        "print(\"--capitalize\")\n",
        "print(str01.capitalize())\n",
        "print(\"\\n\")\n",
        "str5=\"     This is snehitha     \"\n",
        "print(str5)\n",
        "print(\"--strip\")\n",
        "print(str5.strip())\n",
        "print(\"--lstrip\")\n",
        "print(str5.lstrip())\n",
        "print(\"--rstrip\")\n",
        "print(str5.rstrip())\n",
        "print(\"\\n\")"
      ],
      "metadata": {
        "colab": {
          "base_uri": "https://localhost:8080/"
        },
        "id": "pbQgCHUbv9ah",
        "outputId": "1414dcac-780b-4bdd-9a3a-79c6c189ea92"
      },
      "execution_count": 36,
      "outputs": [
        {
          "output_type": "stream",
          "name": "stdout",
          "text": [
            "\\INDEXING\n",
            "S\n",
            "a\n",
            "\n",
            "\n",
            "\\SLICING\n",
            "Snehitha\n",
            "nehitha\n",
            "Sneh\n",
            "hith\n",
            "Seih\n",
            "\n",
            "\n",
            "\\REV STRING\n",
            "ahtihenS\n",
            "\n",
            "\n",
            "\\STRING OPERATIONS\n",
            "helloworld\n",
            "hellohello\n",
            "\n",
            "\n",
            "\\STRING METHODS\n",
            "SNEHITHA REDDY\n",
            "snehitha reddy\n",
            "sNEHITHA REDDY\n",
            "SNEHITHA REDDY\n",
            "Snehitha Reddy\n",
            "\n",
            "\n",
            "ORIGINAL\n",
            "gradStellar is teaching python\n",
            "---upper\n",
            "GRADSTELLAR IS TEACHING PYTHON\n",
            "--lower\n",
            "gradstellar is teaching python\n",
            "--swapcase\n",
            "GRADsTELLAR IS TEACHING PYTHON\n",
            "--title\n",
            "Gradstellar Is Teaching Python\n",
            "--capitalize\n",
            "Gradstellar is teaching python\n",
            "\n",
            "\n",
            "     This is snehitha     \n",
            "--strip\n",
            "This is snehitha\n",
            "--lstrip\n",
            "This is snehitha     \n",
            "--rstrip\n",
            "     This is snehitha\n",
            "\n",
            "\n"
          ]
        }
      ]
    },
    {
      "cell_type": "markdown",
      "source": [
        "2. Implement the methods of List with examples"
      ],
      "metadata": {
        "id": "h91qMSiGzgxn"
      }
    },
    {
      "cell_type": "code",
      "source": [
        "#LIST\n",
        "my_list=[1,\"hello\",9.1]\n",
        "\n",
        "#indexing\n",
        "print(my_list[1])\n",
        "\n",
        "#slicing\n",
        "print(my_list[1:2])\n",
        "\n",
        "#nested list\n",
        "\n",
        "n_list=[\"helloo\",[1,9.1]]\n",
        "print(n_list[0][1])\n",
        "print(n_list[1][1])\n",
        "\n",
        "#list methods\n",
        "l1=[1,2,3]\n",
        "l1.append(4)\n",
        "print(l1)\n",
        "\n",
        "l1.extend([5,6,7,8])\n",
        "print(l1)\n",
        "\n",
        "l2=[21,52,12,29,52,36,95,41,52]\n",
        "print(\"--COUNT\")\n",
        "print(l2.count(52))\n",
        "print(len(l2))\n",
        "print(\"--REVERSE\")\n",
        "l1.reverse()\n",
        "print(l1)\n",
        "print(\"--SORT\")\n",
        "l1.sort()\n",
        "print(l1)\n",
        "print(\"--APPEND\")\n",
        "l1.append(l2)\n",
        "print(l1)\n",
        "print(\"--DEL\")\n",
        "del l2[3]\n",
        "print(l2)\n",
        "del l2[0:2]\n",
        "print(l2)\n",
        "print(\"--REMOVE\")\n",
        "l2.remove(41)\n",
        "print(l2)\n",
        "print(\"--POP\")\n",
        "l2.pop()\n",
        "print(l2)\n",
        "print(\"--CLEAR\")\n",
        "l2.clear()\n",
        "print(\"list elements:\",l2)\n"
      ],
      "metadata": {
        "colab": {
          "base_uri": "https://localhost:8080/"
        },
        "id": "cHuJG563zkaM",
        "outputId": "8f7b2d96-6099-45af-f961-80e514d3ac98"
      },
      "execution_count": 13,
      "outputs": [
        {
          "output_type": "stream",
          "name": "stdout",
          "text": [
            "hello\n",
            "['hello']\n",
            "e\n",
            "9.1\n",
            "[1, 2, 3, 4]\n",
            "[1, 2, 3, 4, 5, 6, 7, 8]\n",
            "--COUNT\n",
            "3\n",
            "9\n",
            "--REVERSE\n",
            "[8, 7, 6, 5, 4, 3, 2, 1]\n",
            "--SORT\n",
            "[1, 2, 3, 4, 5, 6, 7, 8]\n",
            "--APPEND\n",
            "[1, 2, 3, 4, 5, 6, 7, 8, [21, 52, 12, 29, 52, 36, 95, 41, 52]]\n",
            "--DEL\n",
            "[21, 52, 12, 52, 36, 95, 41, 52]\n",
            "[12, 52, 36, 95, 41, 52]\n",
            "--REMOVE\n",
            "[12, 52, 36, 95, 52]\n",
            "--POP\n",
            "[12, 52, 36, 95]\n",
            "--CLEAR\n",
            "list elements: []\n"
          ]
        }
      ]
    },
    {
      "cell_type": "markdown",
      "source": [
        "3. Implement the methods of Tuple with examples.\n"
      ],
      "metadata": {
        "id": "E1CcOdxs2QKs"
      }
    },
    {
      "cell_type": "code",
      "source": [
        "#TUPLESS\n",
        "t=(1,2,3,4)\n",
        "t1=(\"hii\",1.5)\n",
        "\n",
        "#indexing\n",
        "print(\"--INDEXING\")\n",
        "print(t1[0])\n",
        "\n",
        "#tuple methods\n",
        "print(\"--TUPLE METHODS--\")\n",
        "print(\"--COUNT\")\n",
        "print(t1.count(1))\n",
        "print(t.index(2))\n",
        "print(\"--MAX & MIN\")\n",
        "print(max(t))\n",
        "print(min(t))\n",
        "print(\"--LENGTH\")\n",
        "print(len(t1))\n"
      ],
      "metadata": {
        "colab": {
          "base_uri": "https://localhost:8080/"
        },
        "id": "udTgYQii2Rg3",
        "outputId": "61e24493-bb6b-4cdb-a20f-934da7b9316f"
      },
      "execution_count": 14,
      "outputs": [
        {
          "output_type": "stream",
          "name": "stdout",
          "text": [
            "--INDEXING\n",
            "hii\n",
            "--TUPLE METHODS--\n",
            "--COUNT\n",
            "0\n",
            "1\n",
            "--MAX & MIN\n",
            "4\n",
            "1\n",
            "--LENGTH\n",
            "2\n"
          ]
        }
      ]
    },
    {
      "cell_type": "markdown",
      "source": [
        "4. Implement the methods of Dictionary with examples."
      ],
      "metadata": {
        "id": "8BqdhMjR20hY"
      }
    },
    {
      "cell_type": "code",
      "source": [
        "z={\"name\":\"snehitha\",\"phn\":1020304050,\"age\":20}\n",
        "print(\"--DICT METHODS--\")\n",
        "print(\"--GET\")\n",
        "print(z.get(\"age\"))\n",
        "print(z['name'])\n",
        "print(\"--KEYS\")\n",
        "print(z.keys())\n",
        "print(\"--VALUES\")\n",
        "print(z.values())\n",
        "\n"
      ],
      "metadata": {
        "colab": {
          "base_uri": "https://localhost:8080/"
        },
        "id": "D6RQbeBn236M",
        "outputId": "16abfb19-87b2-46e0-bd30-2b08933fc851"
      },
      "execution_count": 15,
      "outputs": [
        {
          "output_type": "stream",
          "name": "stdout",
          "text": [
            "--DICT METHODS--\n",
            "--GET\n",
            "20\n",
            "snehitha\n",
            "--KEYS\n",
            "dict_keys(['name', 'phn', 'age'])\n",
            "--VALUES\n",
            "dict_values(['snehitha', 1020304050, 20])\n"
          ]
        }
      ]
    },
    {
      "cell_type": "markdown",
      "source": [
        "5. Implement the methods of Set with examples."
      ],
      "metadata": {
        "id": "gf_hdDID3if_"
      }
    },
    {
      "cell_type": "code",
      "source": [
        "#SETSSS\n",
        "print(\"SETS\")\n",
        "set1={1,2,3,4}\n",
        "set2={1,2,3,\"hi\",(1,2,3)}\n",
        "\n",
        "#convert list into set\n",
        "print(\"--LIST INTO SET--\")\n",
        "l1=[1,3,5,7]\n",
        "set3=set(l1)\n",
        "print(set3)\n",
        "\n",
        "print(\"--ADD\")\n",
        "set1.add(5)\n",
        "print(set1)\n",
        "print(\"--UPDATE\")\n",
        "set1.update([2,3,4])\n",
        "print(set1)\n",
        "print(\"--DISCARD\")\n",
        "set1.discard(3)\n",
        "print(set1)\n",
        "print(\"--REMOVE\")\n",
        "set1.remove(4)\n",
        "print(set1)\n",
        "\n",
        "#set operations\n",
        "print(\"--SET OPERATIONS--\")\n",
        "a={1,2,3,4,5}\n",
        "b={4,5,6,7,8}\n",
        "print(\"--UNION\")\n",
        "print(a|b)\n",
        "print(a.union(b))\n",
        "print(\"--INTERSECTION\")\n",
        "print(a&b)\n",
        "print(a.intersection(b))\n",
        "print(\"--DIFFERENCE\")\n",
        "print(a-b)\n",
        "print(a.difference(b))"
      ],
      "metadata": {
        "colab": {
          "base_uri": "https://localhost:8080/"
        },
        "id": "OHNTlhCv3mQF",
        "outputId": "6492ba67-3f8f-4e92-b87d-5c8be4886855"
      },
      "execution_count": 19,
      "outputs": [
        {
          "output_type": "stream",
          "name": "stdout",
          "text": [
            "SETS\n",
            "--LIST INTO SET--\n",
            "{1, 3, 5, 7}\n",
            "--ADD\n",
            "{1, 2, 3, 4, 5}\n",
            "--UPDATE\n",
            "{1, 2, 3, 4, 5}\n",
            "--DISCARD\n",
            "{1, 2, 4, 5}\n",
            "--REMOVE\n",
            "{1, 2, 5}\n",
            "--SET OPERATIONS--\n",
            "--UNION\n",
            "{1, 2, 3, 4, 5, 6, 7, 8}\n",
            "{1, 2, 3, 4, 5, 6, 7, 8}\n",
            "--INTERSECTION\n",
            "{4, 5}\n",
            "{4, 5}\n",
            "--DIFFERENCE\n",
            "{1, 2, 3}\n",
            "{1, 2, 3}\n"
          ]
        }
      ]
    },
    {
      "cell_type": "markdown",
      "source": [
        "6. Write a python program to convert Decimal to Binary, Octal and Hexadecimal with \n",
        "direct method."
      ],
      "metadata": {
        "id": "RgDAMwCj5t85"
      }
    },
    {
      "cell_type": "code",
      "source": [
        "#let decimal value be 400\n",
        "dec=400\n",
        "print(\"DECIMAL VALUE IS {}\".format(dec))\n",
        "print(\"--BINARY\")\n",
        "print(bin(dec))\n",
        "print(\"--OCTAL\")\n",
        "print(oct(dec))\n",
        "print(\"--HEXADECIMAL\")\n",
        "print(hex(dec))"
      ],
      "metadata": {
        "colab": {
          "base_uri": "https://localhost:8080/"
        },
        "id": "pEuNhOEf5uv7",
        "outputId": "55cc61c1-b07a-4e6e-f00b-cde567621f6a"
      },
      "execution_count": 24,
      "outputs": [
        {
          "output_type": "stream",
          "name": "stdout",
          "text": [
            "DECIMAL VALUE IS 400\n",
            "--BINARY\n",
            "0b110010000\n",
            "--OCTAL\n",
            "0o620\n",
            "--HEXADECIMAL\n",
            "0x190\n"
          ]
        }
      ]
    },
    {
      "cell_type": "markdown",
      "source": [
        "7. Implement Arithmetic operators with examples."
      ],
      "metadata": {
        "id": "NocBbN6770y5"
      }
    },
    {
      "cell_type": "code",
      "source": [
        "#arithmetic operators\n",
        "a=3\n",
        "b=6\n",
        "print(\"--ADD\")\n",
        "print(a+b)\n",
        "print(\"--SUB\")\n",
        "print(a-b)\n",
        "print(\"--MUL\")\n",
        "print(a*b)\n",
        "print(\"--DIV\")\n",
        "print(a/b) #WITH FLOAT VALUE\n",
        "print(a//b)#WITHOUT FLOAT VALUE\n",
        "print(\"--MOD DIV\")\n",
        "print(a%b)\n",
        "print(\"--POWER\")\n",
        "print(a**b)\n"
      ],
      "metadata": {
        "colab": {
          "base_uri": "https://localhost:8080/"
        },
        "id": "3I-9qiBe76qc",
        "outputId": "a52b9620-5ff4-4dde-97ec-7434acffeb11"
      },
      "execution_count": 25,
      "outputs": [
        {
          "output_type": "stream",
          "name": "stdout",
          "text": [
            "--ADD\n",
            "9\n",
            "--SUB\n",
            "-3\n",
            "--MUL\n",
            "18\n",
            "--DIV\n",
            "0.5\n",
            "0\n",
            "--MOD DIV\n",
            "3\n",
            "--POWER\n",
            "729\n"
          ]
        }
      ]
    },
    {
      "cell_type": "markdown",
      "source": [
        "8. Implement Assignment operators with examples.\n"
      ],
      "metadata": {
        "id": "3QA71Xq58ue6"
      }
    },
    {
      "cell_type": "code",
      "source": [
        "a=3\n",
        "c=6\n",
        "print(\"--ADD\")\n",
        "c+=a\n",
        "print(c)\n",
        "print(\"--SUB\")\n",
        "c-=a\n",
        "print(c)\n",
        "print(\"--MUL\")\n",
        "c*=a\n",
        "print(c)\n",
        "print(\"--DIV\")\n",
        "c/=a\n",
        "print(a/b) \n",
        "print(\"--MOD DIV\")\n",
        "c%=a\n",
        "print(c)\n",
        "print(\"--POWER\")\n",
        "c**=a\n",
        "print(c)"
      ],
      "metadata": {
        "colab": {
          "base_uri": "https://localhost:8080/"
        },
        "id": "7ySdXKJs8zK4",
        "outputId": "04af7327-2d11-407f-c3ec-132c931f9878"
      },
      "execution_count": 29,
      "outputs": [
        {
          "output_type": "stream",
          "name": "stdout",
          "text": [
            "--ADD\n",
            "9\n",
            "--SUB\n",
            "6\n",
            "--MUL\n",
            "18\n",
            "--DIV\n",
            "0.5\n",
            "--MOD DIV\n",
            "0.0\n",
            "--POWER\n",
            "0.0\n"
          ]
        }
      ]
    },
    {
      "cell_type": "markdown",
      "source": [
        "9. Implement Comparison operators with examples"
      ],
      "metadata": {
        "id": "UxpG6AJH91_2"
      }
    },
    {
      "cell_type": "code",
      "source": [
        "#comparision operators\n",
        "a = 1\n",
        "b = 2\n",
        "print(\"--EQUAL\")\n",
        "if ( a == b ):\n",
        "   print(\"true\")\n",
        "else:\n",
        "   print(\"false\")\n",
        "print(\"-- NOT EQUAL\")\n",
        "if ( a != b ):\n",
        "   print(\"true\")\n",
        "else:\n",
        "   print(\"false\")\n",
        "print(\"--LESSER\")\n",
        "if ( a < b ):\n",
        "  print(\"true\")\n",
        "else:\n",
        "   print(\"false\")\n",
        "print(\"--GREATER\")\n",
        "if ( a > b ):\n",
        "  print(\"true\")\n",
        "else:\n",
        "   print(\"false\")\n",
        "print(\"--LESS OR EQUAL\")\n",
        "if ( a <=b ):\n",
        "  print(\"true\")\n",
        "else:\n",
        "   print(\"false\")\n",
        "print(\"--GREATER OR EQUAL\")\n",
        "if ( a >= b ):\n",
        "  print(\"true\")\n",
        "else:\n",
        "   print(\"false\")"
      ],
      "metadata": {
        "colab": {
          "base_uri": "https://localhost:8080/"
        },
        "id": "HfRPgAjL94-x",
        "outputId": "223911f2-0a4e-4244-aae9-30714ce55e33"
      },
      "execution_count": 34,
      "outputs": [
        {
          "output_type": "stream",
          "name": "stdout",
          "text": [
            "--EQUAL\n",
            "false\n",
            "-- NOT EQUAL\n",
            "true\n",
            "--LESSER\n",
            "true\n",
            "--GREATER\n",
            "false\n",
            "--LESS OR EQUAL\n",
            "true\n",
            "--GREATER OR EQUAL\n",
            "false\n"
          ]
        }
      ]
    },
    {
      "cell_type": "markdown",
      "source": [
        "10. Implement Logical operators with examples"
      ],
      "metadata": {
        "id": "QbVC8Qss_GRo"
      }
    },
    {
      "cell_type": "code",
      "source": [
        "x=True\n",
        "y=False\n",
        "print(\"--AND\")\n",
        "print(\"x and y is\",x and y)\n",
        "print(\"--OR\")\n",
        "print(\"x or y is\",x or y)\n",
        "print(\"--NOT\")\n",
        "print(\"x not is\",not x)"
      ],
      "metadata": {
        "colab": {
          "base_uri": "https://localhost:8080/"
        },
        "id": "XmrzQDJk_JJ7",
        "outputId": "5e64b167-05c6-40cf-eff7-c36bd18f334c"
      },
      "execution_count": 36,
      "outputs": [
        {
          "output_type": "stream",
          "name": "stdout",
          "text": [
            "--AND\n",
            "x and y is False\n",
            "--OR\n",
            "x or y is True\n",
            "--NOT\n",
            "x not is False\n"
          ]
        }
      ]
    },
    {
      "cell_type": "markdown",
      "source": [
        "11. Implement Bitwise operators with examples."
      ],
      "metadata": {
        "id": "aXBAadeB_bbs"
      }
    },
    {
      "cell_type": "code",
      "source": [
        "#bitwise operators\n",
        "a=5\n",
        "B=10\n",
        "print(\"--AND\")\n",
        "print(a&b)\n",
        "print(\"--AXOR\")\n",
        "print(a^b)\n",
        "print(\"--OR\")\n",
        "print(a|b)\n",
        "print(\"--NOT\")\n",
        "print(~a)\n",
        "print(\"--R SHIFT\")\n",
        "print(a>>2)\n",
        "print(\"--L SHIFT\")\n",
        "print(a<<4)#left shift"
      ],
      "metadata": {
        "colab": {
          "base_uri": "https://localhost:8080/"
        },
        "id": "SOMwbDJb_fj_",
        "outputId": "e451f1c3-1236-499a-e402-2462da40f12c"
      },
      "execution_count": 38,
      "outputs": [
        {
          "output_type": "stream",
          "name": "stdout",
          "text": [
            "--AND\n",
            "0\n",
            "--AXOR\n",
            "7\n",
            "--OR\n",
            "7\n",
            "--NOT\n",
            "-6\n",
            "--R SHIFT\n",
            "1\n",
            "--L SHIFT\n",
            "80\n"
          ]
        }
      ]
    },
    {
      "cell_type": "markdown",
      "source": [
        "12. Implement Membership operators with example"
      ],
      "metadata": {
        "id": "kvdJU9AG__NU"
      }
    },
    {
      "cell_type": "code",
      "source": [
        "x=\"Hello\"\n",
        "y={1:'a',2:'b'}\n",
        "print('H' in x)\n",
        "print(1 in y)\n",
        "print('a'in y)"
      ],
      "metadata": {
        "colab": {
          "base_uri": "https://localhost:8080/"
        },
        "id": "M3LcPgyp_6wC",
        "outputId": "4508fd38-6aa9-43e8-f5f3-c66a65ea24fd"
      },
      "execution_count": 39,
      "outputs": [
        {
          "output_type": "stream",
          "name": "stdout",
          "text": [
            "True\n",
            "True\n",
            "False\n"
          ]
        }
      ]
    },
    {
      "cell_type": "markdown",
      "source": [
        "13. Implement Identity operators with examples"
      ],
      "metadata": {
        "id": "uUvmnpRtAZAK"
      }
    },
    {
      "cell_type": "code",
      "source": [
        "x1=2\n",
        "y1=2\n",
        "x2=\"HII\"\n",
        "y2=\"HII\"\n",
        "x3=[1,2,3]\n",
        "y3=[1,2,3]\n",
        "print(\"--IS NOT\")\n",
        "print(x1 is not y1)\n",
        "print(\"--IS\")\n",
        "print(x2 is y2)\n",
        "print(x3 is y3)"
      ],
      "metadata": {
        "colab": {
          "base_uri": "https://localhost:8080/"
        },
        "id": "QxSpQKS2Ac6B",
        "outputId": "ad8c31cc-66b1-4e02-bbea-86e21e0747df"
      },
      "execution_count": 41,
      "outputs": [
        {
          "output_type": "stream",
          "name": "stdout",
          "text": [
            "--IS NOT\n",
            "False\n",
            "--IS\n",
            "True\n",
            "False\n"
          ]
        }
      ]
    },
    {
      "cell_type": "markdown",
      "source": [
        "14. Demonstrate Negative indexing for List and apply slicing.\n"
      ],
      "metadata": {
        "id": "WxrQogksQeqR"
      }
    },
    {
      "cell_type": "code",
      "source": [
        "#LIST\n",
        "l1=[1,2,3,4]\n",
        "l2=[9.1,\"hii\",2]\n",
        "l3=['H','E','L','L','O']\n",
        "#indexing\n",
        "print(\"--INDEXING\")\n",
        "print(l1[2])\n",
        "print(l2[1])\n",
        "print(l3[4])\n",
        "#slicing\n",
        "print(\"--SLICING\")\n",
        "print(l1[1:3])\n",
        "print(l3[::-1])\n",
        "print(l2[0:2:1])"
      ],
      "metadata": {
        "colab": {
          "base_uri": "https://localhost:8080/"
        },
        "id": "B9UfblkGQh5R",
        "outputId": "50cc75db-9aa5-457d-b554-4facf67fc795"
      },
      "execution_count": 2,
      "outputs": [
        {
          "output_type": "stream",
          "name": "stdout",
          "text": [
            "--INDEXING\n",
            "3\n",
            "hii\n",
            "O\n",
            "--SLICING\n",
            "[2, 3]\n",
            "['O', 'L', 'L', 'E', 'H']\n",
            "[9.1, 'hii']\n"
          ]
        }
      ]
    },
    {
      "cell_type": "markdown",
      "source": [
        "15. Predict the output for the given code snippet and justify the result\n",
        "![image.png](data:image/png;base64,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)"
      ],
      "metadata": {
        "id": "6dFRQs75Rzev"
      }
    },
    {
      "cell_type": "code",
      "source": [
        "print('A series of characters designated as one object known as a string'[::-1][4::3])\n",
        "print(\"--------------------------\")\n",
        "print('Welcome to python traing program'[3:10][::-1])\n",
        "\n",
        "#str1----->initially it will reverse the string then it will start from 4th index will skip with step value 3 nd print\n",
        "#-------------------------------------------------------------\n",
        "#str2------>initilly it will strat from 3rd index untill 10th nd then reverse"
      ],
      "metadata": {
        "colab": {
          "base_uri": "https://localhost:8080/"
        },
        "id": "C03AhDQtSIcZ",
        "outputId": "eba27de7-53c2-4350-9d52-c70e1bd5c903"
      },
      "execution_count": 35,
      "outputs": [
        {
          "output_type": "stream",
          "name": "stdout",
          "text": [
            "taawkcbe  tgestrcoeeA\n",
            "--------------------------\n",
            "ot emoc\n"
          ]
        }
      ]
    },
    {
      "cell_type": "markdown",
      "source": [
        "16. Write a python code to get desired output\n",
        "![image.png](data:image/png;base64,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)"
      ],
      "metadata": {
        "id": "4GbZCo_QVJ51"
      }
    },
    {
      "cell_type": "code",
      "source": [
        "str=input(\"enter a string:  \")\n",
        "print(str)\n",
        "str1=str[::-1]\n",
        "print(str1.upper())"
      ],
      "metadata": {
        "colab": {
          "base_uri": "https://localhost:8080/"
        },
        "id": "LAXlEWJHVUAy",
        "outputId": "5225adae-191f-4f79-cceb-a91e1e855883"
      },
      "execution_count": 34,
      "outputs": [
        {
          "output_type": "stream",
          "name": "stdout",
          "text": [
            "enter a string:  was it a car or a cat I saw\n",
            "was it a car or a cat I saw\n",
            "WAS I TAC A RO RAC A TI SAW\n"
          ]
        }
      ]
    },
    {
      "cell_type": "markdown",
      "source": [
        "17. You are required to generate a word similar to ZOO, X and Y that denote the number \n",
        "of Zs and Os respectively. The generated word similar to ZOO where Y= 2 * X. \n",
        " Input X= 2 Output ZZOOOO \n",
        " Input X= 5 Output ZZZZZOOOOOOOOOO"
      ],
      "metadata": {
        "id": "U8K25bzmVnKq"
      }
    },
    {
      "cell_type": "code",
      "source": [
        "x=int(input(\"enter number\"))\n",
        "print(\"the value of x is {}\".format(x))\n",
        "y=x*2\n",
        "print(\"the value of x is {}\".format(y))\n",
        "#print('Z'*x\"+\"'O'*y)\n",
        "print(\"Z\"*x,\"O\"*y,sep='')"
      ],
      "metadata": {
        "colab": {
          "base_uri": "https://localhost:8080/"
        },
        "id": "wYsAvo9EVwm6",
        "outputId": "5ae51beb-e1f0-4995-b8ae-cc200b98d964"
      },
      "execution_count": 25,
      "outputs": [
        {
          "output_type": "stream",
          "name": "stdout",
          "text": [
            "enter number3\n",
            "the value of x is 3\n",
            "the value of x is 6\n",
            "ZZZOOOOOO\n"
          ]
        }
      ]
    }
  ]
}