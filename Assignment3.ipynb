{
  "nbformat": 4,
  "nbformat_minor": 0,
  "metadata": {
    "colab": {
      "name": "DAY3.ipynb",
      "provenance": [],
      "authorship_tag": "ABX9TyMMEcKaEZnVt8eMvqXJL5K+",
      "include_colab_link": true
    },
    "kernelspec": {
      "name": "python3",
      "display_name": "Python 3"
    },
    "language_info": {
      "name": "python"
    }
  },
  "cells": [
    {
      "cell_type": "markdown",
      "metadata": {
        "id": "view-in-github",
        "colab_type": "text"
      },
      "source": [
        "<a href=\"https://colab.research.google.com/github/Snehitha2021/2216108_AIML_BOOTCAMP/blob/main/Assignment3.ipynb\" target=\"_parent\"><img src=\"https://colab.research.google.com/assets/colab-badge.svg\" alt=\"Open In Colab\"/></a>"
      ]
    },
    {
      "cell_type": "code",
      "execution_count": 1,
      "metadata": {
        "colab": {
          "base_uri": "https://localhost:8080/"
        },
        "id": "3lQ-IT0tC73k",
        "outputId": "d75f2c65-1a80-499c-cfe6-a05ed8dd4f6e"
      },
      "outputs": [
        {
          "output_type": "stream",
          "name": "stdout",
          "text": [
            "ADD is 9\n",
            "SUB is 1\n"
          ]
        }
      ],
      "source": [
        "#CLASS AND OBJECTS\n",
        "class CO:\n",
        "  def  add(self,a,b):\n",
        "    return a+b\n",
        "  def sub(self,a,b):\n",
        "    return a-b\n",
        "obj=CO()\n",
        "print(\"ADD is\",obj.add(5,4))\n",
        "print(\"SUB is\",obj.sub(5,4))\n"
      ]
    },
    {
      "cell_type": "markdown",
      "source": [
        ""
      ],
      "metadata": {
        "id": "6JffKeASDzyA"
      }
    },
    {
      "cell_type": "code",
      "source": [
        "class c1:\n",
        "  '''description'''\n",
        "  class_var=\"demonstrates class creation\"\n",
        "  def cm(self):\n",
        "    return\"method invocation\"\n",
        "  def __str__(self):\n",
        "    return \"returns string to object\"\n",
        "obj1=c1()\n",
        "print(obj1.class_var)\n",
        "print(obj1.cm())\n",
        "print(obj1)"
      ],
      "metadata": {
        "colab": {
          "base_uri": "https://localhost:8080/"
        },
        "id": "rAsESy4QEMhP",
        "outputId": "787810dd-dfb7-47f2-f106-0fa88c626ae4"
      },
      "execution_count": 3,
      "outputs": [
        {
          "output_type": "stream",
          "name": "stdout",
          "text": [
            "demonstrates class creation\n",
            "method invocation\n",
            "returns string to object\n"
          ]
        }
      ]
    },
    {
      "cell_type": "markdown",
      "source": [
        "\n",
        "addition,sub,mul,div,floor div,mod,powerarithmeticclass\n",
        "perform above arithmetic operations using classes and object(s)\n"
      ],
      "metadata": {
        "id": "JDz2NmizGL1o"
      }
    },
    {
      "cell_type": "code",
      "source": [
        "class arithmeticclass:\n",
        "  def  add(self,a,b):\n",
        "    return a+b\n",
        "  def sub(self,a,b):\n",
        "    return a-b\n",
        "  def mul(self,a,b):\n",
        "    return a*b\n",
        "  def div(self,a,b):\n",
        "    return a/b\n",
        "  def fdiv(self,a,b):\n",
        "    return a//b\n",
        "  def mod(self,a,b):\n",
        "    return a%b\n",
        "  def pow(self,a,b):\n",
        "    return a**b\n",
        "obj=arithmeticclass()\n",
        "obj1=arithmeticclass()\n",
        "print(\"ADD is\",obj.add(5,4))\n",
        "print(\"SUB is\",obj.sub(5,4))\n",
        "print(\"MUL is\",obj.mul(5,4))\n",
        "print(\"DIV is\",obj.div(5,4))\n",
        "print(\"FDIV is\",obj.fdiv(5,4))\n",
        "print(\"MOD is\",obj1.mod(5,4))\n",
        "print(\"POW is\",obj1.pow(5,4))"
      ],
      "metadata": {
        "colab": {
          "base_uri": "https://localhost:8080/"
        },
        "id": "KZOarwqIFRsq",
        "outputId": "a84f65b3-78b8-4f2b-e8eb-80fa21b5d20b"
      },
      "execution_count": 5,
      "outputs": [
        {
          "output_type": "stream",
          "name": "stdout",
          "text": [
            "ADD is 9\n",
            "SUB is 1\n",
            "MUL is 20\n",
            "DIV is 1.25\n",
            "FDIV is 1\n",
            "MOD is 1\n",
            "POW is 625\n"
          ]
        }
      ]
    },
    {
      "cell_type": "code",
      "source": [
        "#INHERITANCE   \n",
        "#single\n",
        "class Animal:\n",
        "  def animal_sounds(self):\n",
        "    return \"makes sound\"\n",
        "class cat(Animal):\n",
        "  def cat_sound(self):\n",
        "    return self.animal_sounds()+\" MEOW\"\n",
        "  def __str__(self):\n",
        "    return \"CAT\"\n",
        "co=cat()\n",
        "print(co,co.cat_sound())"
      ],
      "metadata": {
        "colab": {
          "base_uri": "https://localhost:8080/"
        },
        "id": "GE6nGS6JGqJD",
        "outputId": "f5f89643-5b44-4275-b7ef-c7bcec780fd1"
      },
      "execution_count": 8,
      "outputs": [
        {
          "output_type": "stream",
          "name": "stdout",
          "text": [
            "CAT makes sound MEOW\n"
          ]
        }
      ]
    },
    {
      "cell_type": "code",
      "source": [
        "#hierarchial\n",
        "class Animal:\n",
        "  def animal_sounds(self):\n",
        "    return \"makes sound\"\n",
        "class cat(Animal):\n",
        "  def cat_sound(self):\n",
        "    return self.animal_sounds()+\" MEOW\"\n",
        "  def __str__(self):\n",
        "    return \"CAT\"\n",
        "  \n",
        "class dog(Animal):\n",
        "   def dog_sound(self):\n",
        "     return self.animal_sounds()+\" BOW\"\n",
        "   def __str__(self):\n",
        "     return \"DOG\"\n",
        "\n",
        "co=cat()\n",
        "print(co,co.cat_sound())\n",
        "co1=dog()\n",
        "print(co1,co1.dog_sound())"
      ],
      "metadata": {
        "colab": {
          "base_uri": "https://localhost:8080/"
        },
        "id": "V2FQ1rEJIh5m",
        "outputId": "418c9688-c2b5-4d11-cd57-2b1ecba905d7"
      },
      "execution_count": 13,
      "outputs": [
        {
          "output_type": "stream",
          "name": "stdout",
          "text": [
            "CAT makes sound MEOW\n",
            "DOG makes sound BOW\n"
          ]
        }
      ]
    },
    {
      "cell_type": "code",
      "source": [
        ""
      ],
      "metadata": {
        "id": "uUsZRbccKqKf"
      },
      "execution_count": null,
      "outputs": []
    },
    {
      "cell_type": "code",
      "source": [
        "#multilevel \n",
        "class Animal:\n",
        "  def animal_sounds(self):\n",
        "    return \"makes sound\"\n",
        "class cat(Animal):\n",
        "  def cat_sound(self):\n",
        "    return self.animal_sounds()+\" MEOW\"\n",
        "  def __str__(self):\n",
        "    return \"CAT\"\n",
        "class color(cat):\n",
        "  def __str__(self):\n",
        "    return \"CAT\"\n",
        "  def color(self):\n",
        "    return \"color is black\"\n",
        "co=color()\n",
        "\n",
        "print(co,co.cat_sound())\n",
        "print(co,co.color())"
      ],
      "metadata": {
        "colab": {
          "base_uri": "https://localhost:8080/"
        },
        "id": "01igN_6GJU7k",
        "outputId": "5ca934ba-1a8b-4a9b-ee70-dbbeb8554457"
      },
      "execution_count": 11,
      "outputs": [
        {
          "output_type": "stream",
          "name": "stdout",
          "text": [
            "CAT makes sound MEOW\n",
            "CAT color is black\n"
          ]
        }
      ]
    },
    {
      "cell_type": "code",
      "source": [
        "def animal_sounds(self):\n",
        "   return \"makes sound\"\n",
        "class dog(Animal):\n",
        "   def dog_sound(self):\n",
        "     return self.animal_sounds()+\" BOW\"\n",
        "   def __str__(self):\n",
        "     return \"DOG\"\n",
        "class color(dog):\n",
        "  def __str__(self):\n",
        "    return \"DOG\"\n",
        "  def color(self):\n",
        "    return \"color is white\"\n",
        "co=color()\n",
        "\n",
        "print(co,co.dog_sound())\n",
        "print(co,co.color())"
      ],
      "metadata": {
        "colab": {
          "base_uri": "https://localhost:8080/"
        },
        "id": "sqqdCt6QKr2a",
        "outputId": "39963f15-73cf-4117-b9b2-72e32984a29d"
      },
      "execution_count": 14,
      "outputs": [
        {
          "output_type": "stream",
          "name": "stdout",
          "text": [
            "DOG makes sound BOW\n",
            "DOG color is white\n"
          ]
        }
      ]
    },
    {
      "cell_type": "code",
      "source": [
        "print(x)"
      ],
      "metadata": {
        "colab": {
          "base_uri": "https://localhost:8080/",
          "height": 165
        },
        "id": "XPerbkcJMyJu",
        "outputId": "9dee1371-c2c1-4ab3-f365-8fc528b5bb8a"
      },
      "execution_count": 19,
      "outputs": [
        {
          "output_type": "error",
          "ename": "NameError",
          "evalue": "ignored",
          "traceback": [
            "\u001b[0;31m---------------------------------------------------------------------------\u001b[0m",
            "\u001b[0;31mNameError\u001b[0m                                 Traceback (most recent call last)",
            "\u001b[0;32m<ipython-input-19-fc17d851ef81>\u001b[0m in \u001b[0;36m<module>\u001b[0;34m()\u001b[0m\n\u001b[0;32m----> 1\u001b[0;31m \u001b[0mprint\u001b[0m\u001b[0;34m(\u001b[0m\u001b[0mx\u001b[0m\u001b[0;34m)\u001b[0m\u001b[0;34m\u001b[0m\u001b[0;34m\u001b[0m\u001b[0m\n\u001b[0m",
            "\u001b[0;31mNameError\u001b[0m: name 'x' is not defined"
          ]
        }
      ]
    },
    {
      "cell_type": "code",
      "source": [
        "#EXCEPTION\n",
        "#NAME ERROR\n",
        "try:\n",
        "  print(x)\n",
        "except NameError as ne:\n",
        "  print(\"Exception occcured\",ne)\n",
        "print(\"executed\")"
      ],
      "metadata": {
        "colab": {
          "base_uri": "https://localhost:8080/"
        },
        "id": "yb26A2g2LB8i",
        "outputId": "f2cb6c54-7cac-4cb5-f18c-4136be7db89a"
      },
      "execution_count": 17,
      "outputs": [
        {
          "output_type": "stream",
          "name": "stdout",
          "text": [
            "Exception occcured name 'x' is not defined\n",
            "executed\n"
          ]
        }
      ]
    },
    {
      "cell_type": "code",
      "source": [
        "#VALUE ERRORS\n",
        "a=\"5 xyz\"\n",
        "print(int(a))"
      ],
      "metadata": {
        "colab": {
          "base_uri": "https://localhost:8080/",
          "height": 200
        },
        "id": "TZqXlPAPMlON",
        "outputId": "73b0934c-c5d4-49f5-a031-2785be5bde73"
      },
      "execution_count": 18,
      "outputs": [
        {
          "output_type": "error",
          "ename": "ValueError",
          "evalue": "ignored",
          "traceback": [
            "\u001b[0;31m---------------------------------------------------------------------------\u001b[0m",
            "\u001b[0;31mValueError\u001b[0m                                Traceback (most recent call last)",
            "\u001b[0;32m<ipython-input-18-22a5ca05c597>\u001b[0m in \u001b[0;36m<module>\u001b[0;34m()\u001b[0m\n\u001b[1;32m      1\u001b[0m \u001b[0;31m#VALUE ERRORS\u001b[0m\u001b[0;34m\u001b[0m\u001b[0;34m\u001b[0m\u001b[0;34m\u001b[0m\u001b[0m\n\u001b[1;32m      2\u001b[0m \u001b[0ma\u001b[0m\u001b[0;34m=\u001b[0m\u001b[0;34m\"5 xyz\"\u001b[0m\u001b[0;34m\u001b[0m\u001b[0;34m\u001b[0m\u001b[0m\n\u001b[0;32m----> 3\u001b[0;31m \u001b[0mprint\u001b[0m\u001b[0;34m(\u001b[0m\u001b[0mint\u001b[0m\u001b[0;34m(\u001b[0m\u001b[0ma\u001b[0m\u001b[0;34m)\u001b[0m\u001b[0;34m)\u001b[0m\u001b[0;34m\u001b[0m\u001b[0;34m\u001b[0m\u001b[0m\n\u001b[0m",
            "\u001b[0;31mValueError\u001b[0m: invalid literal for int() with base 10: '5 xyz'"
          ]
        }
      ]
    },
    {
      "cell_type": "code",
      "source": [
        "#VALUE ERRORS\n",
        "a=\"5 xyz\"\n",
        "try:\n",
        "  print(int(a))\n",
        "except ValueError as e:\n",
        "  print(e)"
      ],
      "metadata": {
        "colab": {
          "base_uri": "https://localhost:8080/"
        },
        "id": "SAnOZ8oqM2F_",
        "outputId": "05f55ccb-bbfc-4731-ab47-00d30ed6d658"
      },
      "execution_count": 20,
      "outputs": [
        {
          "output_type": "stream",
          "name": "stdout",
          "text": [
            "invalid literal for int() with base 10: '5 xyz'\n"
          ]
        }
      ]
    },
    {
      "cell_type": "code",
      "source": [
        "#exceptional handlingg\n",
        "#2003\n",
        "class INVALIDSID(Exception):\n",
        "  pass\n",
        "stid=input(\"enter id\")\n",
        "try:\n",
        "  if stid[:4]!=\"2003\":\n",
        "    raise INVALIDSID\n",
        "except INVALIDSID:\n",
        "  print(\"error raised due to invalid detail\")\n",
        "print(\"setails verified\")"
      ],
      "metadata": {
        "colab": {
          "base_uri": "https://localhost:8080/"
        },
        "id": "jAviDHVrNAY-",
        "outputId": "827c0349-49c4-4491-8549-1d2f069dde37"
      },
      "execution_count": 30,
      "outputs": [
        {
          "output_type": "stream",
          "name": "stdout",
          "text": [
            "enter id18k20\n",
            "error raised due to invalid detail\n",
            "setails verified\n"
          ]
        }
      ]
    },
    {
      "cell_type": "code",
      "source": [
        "class INVALIDSID(Exception):\n",
        "  def __str__(self):\n",
        "    return \"ERROR RAISED\"\n",
        "  if stid[:4]!=\"2003\":\n",
        "    raise INVALIDSID\n",
        "except INVALIDSID as invalid:\n",
        "  print(invalid)\n",
        "print(\"setails verified\")"
      ],
      "metadata": {
        "colab": {
          "base_uri": "https://localhost:8080/",
          "height": 130
        },
        "id": "H5xXtu3mO-kz",
        "outputId": "de1e0ce2-fcb3-4bea-e450-407e5d058d8b"
      },
      "execution_count": 33,
      "outputs": [
        {
          "output_type": "error",
          "ename": "SyntaxError",
          "evalue": "ignored",
          "traceback": [
            "\u001b[0;36m  File \u001b[0;32m\"<ipython-input-33-af6b73482735>\"\u001b[0;36m, line \u001b[0;32m6\u001b[0m\n\u001b[0;31m    except INVALIDSID as invalid:\u001b[0m\n\u001b[0m         ^\u001b[0m\n\u001b[0;31mSyntaxError\u001b[0m\u001b[0;31m:\u001b[0m invalid syntax\n"
          ]
        }
      ]
    },
    {
      "cell_type": "code",
      "source": [
        "#FILES\n",
        "f=open(\"sample.txt\",\"x\")"
      ],
      "metadata": {
        "id": "VqopkkpahfHs"
      },
      "execution_count": null,
      "outputs": []
    },
    {
      "cell_type": "code",
      "source": [
        "f=open(\"sample.txt\",\"w\")\n",
        "f.write(\"Welcome\")\n",
        "f.close()"
      ],
      "metadata": {
        "id": "OOn3BNQJO3hs"
      },
      "execution_count": 42,
      "outputs": []
    },
    {
      "cell_type": "code",
      "source": [
        "f=open(\"sample.txt\",\"r\")\n",
        "print(f.read())\n",
        "f.close()"
      ],
      "metadata": {
        "colab": {
          "base_uri": "https://localhost:8080/"
        },
        "id": "a2xvLKyEiG9a",
        "outputId": "3e5b59bd-adad-42eb-ea9d-f233841ce517"
      },
      "execution_count": 43,
      "outputs": [
        {
          "output_type": "stream",
          "name": "stdout",
          "text": [
            "Welcome\n"
          ]
        }
      ]
    },
    {
      "cell_type": "code",
      "source": [
        "#import os\n",
        "#os.remove(\"sample.txt\")"
      ],
      "metadata": {
        "id": "H7oBvhOdigRW"
      },
      "execution_count": 40,
      "outputs": []
    },
    {
      "cell_type": "code",
      "source": [
        "f=open(\"sample.txt\",\"r\")\n",
        "print(f.read(3))\n",
        "print(f.tell())\n",
        "print(f.seek(2))\n",
        "print(f.seek(0))\n",
        "print(f.readline())"
      ],
      "metadata": {
        "colab": {
          "base_uri": "https://localhost:8080/"
        },
        "id": "-zL4MXOkis5Y",
        "outputId": "f3dc852e-ad2e-43e0-a51e-5bac710bbf0d"
      },
      "execution_count": 46,
      "outputs": [
        {
          "output_type": "stream",
          "name": "stdout",
          "text": [
            "Wel\n",
            "3\n",
            "2\n",
            "0\n",
            "Welcome\n"
          ]
        }
      ]
    },
    {
      "cell_type": "code",
      "source": [
        "#copy paste\n",
        "f3=open(\"f3.txt\",\"x\")\n",
        "f2=open(\"f2.txt\",\"x\")"
      ],
      "metadata": {
        "id": "HtwDHZsGjVXw"
      },
      "execution_count": 50,
      "outputs": []
    },
    {
      "cell_type": "code",
      "source": [
        "\n",
        "f3=open(\"f3.txt\",\"w\")\n",
        "f3.write(\"COPY PASTE\")\n",
        "f3.close()"
      ],
      "metadata": {
        "id": "XBAHg4QOkiSP"
      },
      "execution_count": 51,
      "outputs": []
    },
    {
      "cell_type": "code",
      "source": [
        "f3=open(\"f3.txt\",\"r\")\n",
        "temp=f3.read()\n",
        "f3.close()\n",
        "\n",
        "f2=open(\"f2.txt\",\"w\")\n",
        "f2.write(temp)\n",
        "f2.close()"
      ],
      "metadata": {
        "id": "5-z4E3c7ko7_"
      },
      "execution_count": 52,
      "outputs": []
    },
    {
      "cell_type": "code",
      "source": [
        "a1=open(\"a1.txt\",\"x\")\n",
        "a1=open(\"a1.txt\",\"w\")\n",
        "a1.write(\"welcome\")\n",
        "a1.close()\n",
        "print(a1.read())"
      ],
      "metadata": {
        "id": "FOrKHcR4k8il"
      },
      "execution_count": null,
      "outputs": []
    },
    {
      "cell_type": "code",
      "source": [
        "#PICKLE\n",
        "import pickle\n",
        "l=['a','b','c','d']\n",
        "f3=open(\"df1.txt\",\"wb\")\n",
        "pickle.dump(l,f3)\n",
        "f3.close()\n",
        "\n",
        "#unpickling\n",
        "import pickle\n",
        "p=open(\"df1.txt\",\"rb\")\n",
        "e=pickle.load(p)\n",
        "print(e)"
      ],
      "metadata": {
        "colab": {
          "base_uri": "https://localhost:8080/"
        },
        "id": "ljl5LEgCnlSM",
        "outputId": "1a4ec07b-2565-45b0-a6ec-f93750644db1"
      },
      "execution_count": 59,
      "outputs": [
        {
          "output_type": "stream",
          "name": "stdout",
          "text": [
            "['a', 'b', 'c', 'd']\n"
          ]
        }
      ]
    },
    {
      "cell_type": "code",
      "source": [
        "#regular  expressions\n",
        "import re\n",
        "pattern=r\"COOKIE\"\n",
        "sequence=(\"Cookie\")\n",
        "if re.match(pattern,sequence):\n",
        "  print(\"MATCHING\")\n",
        "else:\n",
        "  print(\"NOT MATCH\")"
      ],
      "metadata": {
        "colab": {
          "base_uri": "https://localhost:8080/"
        },
        "id": "lCbVs_16pOGk",
        "outputId": "5f378db6-9020-463d-f8a8-3f312c55a5af"
      },
      "execution_count": 60,
      "outputs": [
        {
          "output_type": "stream",
          "name": "stdout",
          "text": [
            "NOT MATCH\n"
          ]
        }
      ]
    },
    {
      "cell_type": "code",
      "source": [
        "import re\n",
        "pn=input(\"enter mbl num\")\n",
        "print(re.search(r'\\d{10}',pn).group())"
      ],
      "metadata": {
        "colab": {
          "base_uri": "https://localhost:8080/"
        },
        "id": "2jZi3NTnqrQF",
        "outputId": "320899e6-6326-4f1d-bab0-048a3283e9bd"
      },
      "execution_count": 65,
      "outputs": [
        {
          "output_type": "stream",
          "name": "stdout",
          "text": [
            "enter mbl num4152639685\n",
            "4152639685\n"
          ]
        }
      ]
    },
    {
      "cell_type": "code",
      "source": [
        "mail=input(\"enter a mail\")\n",
        "str1=r'[A-Za-z0-9._-]+@[A-Za-z0-9.-]+[A-Z|a-z]{2,}'\n",
        "print(re.search(str1,mail).group())"
      ],
      "metadata": {
        "colab": {
          "base_uri": "https://localhost:8080/"
        },
        "id": "8lb1wwcwt8e1",
        "outputId": "cd7246a3-5581-44e5-c015-ddeb3dc79115"
      },
      "execution_count": 67,
      "outputs": [
        {
          "output_type": "stream",
          "name": "stdout",
          "text": [
            "enter a mailminnu09@gmail.com\n",
            "minnu09@gmail.com\n"
          ]
        }
      ]
    },
    {
      "cell_type": "markdown",
      "source": [
        ""
      ],
      "metadata": {
        "id": "phDzGi1JDxa3"
      }
    }
  ]
}